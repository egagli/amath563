{
  "cells": [
    {
      "cell_type": "markdown",
      "metadata": {
        "id": "view-in-github",
        "colab_type": "text"
      },
      "source": [
        "<a href=\"https://colab.research.google.com/github/egagli/amath563/blob/main/labs/3/Lab3.ipynb\" target=\"_parent\"><img src=\"https://colab.research.google.com/assets/colab-badge.svg\" alt=\"Open In Colab\"/></a>"
      ]
    },
    {
      "cell_type": "markdown",
      "metadata": {
        "id": "7KixHYy9Y5Tu"
      },
      "source": [
        "# Lab 3: Pytorch Operators and Optimizers"
      ]
    },
    {
      "cell_type": "markdown",
      "metadata": {
        "id": "XaRkxg62ZH3e"
      },
      "source": [
        "## Assignment: Fashion MNIST Classification\n",
        "\n",
        "In Lab3, we will use the Fashion MNIST dataset (see video recording for explanation of Fashion MNIST dataset). Similar to previous Lab2, you should design a fully-connected network as well as the pytorch based training/validation/testing process on the classification task. But differently, we will dive into the optimizers, operations or modules that we have learned in the lectures, and to see how they can benefit the capacity of your model.\n",
        "\n",
        "\n",
        "\n",
        "1. Try different optimizers including RMSProp, Adam and SGD(You can find the corresponding functions in the torch.optim library). Log your training loss and test accuracy. Comparing these optimizers, how do they work? Which one is the best for this task and try to explain it.\n",
        "\n",
        "2. Analyze the overfitting/underfitting situation of your model. Try to use regularization like L2/L1, Dropout layers, etc. to improve your performance. How does your regularization work? And how do you balance your regularization and the loss optimization?\n",
        "\n",
        "3. Try different initialization ways like random normal, Xavier and He (Kaiming) etc. How can these initialization affect your training process and performance? \n",
        "\n",
        "4. Try normalization like batch normalization or layer normalization, whether these normalization methods can help your training or improve your performance?\n",
        "\n",
        "5. To further improve the performance, you can also choose your own hyperparameters, including:\n",
        "- Number of layers\n",
        "- Number of neurons in each layer\n",
        "- Learning rate\n",
        "- Number of training epochs\n",
        "\n",
        "For the comparing of different optimizers, regularization, initialization, normalization and hyper-parameters, you are recommended to form a table of the comparison results.  Report your loss as ”loss curve” and accuracy for different settings and draw conclusions. **You can split a small validation set from the training set to help you analyze the effectiveness of different modules better.**\n",
        "\n",
        "For the convenient implementation of different optimizers, regularization, initialization and normalization, you can always check the tutorial of pytorch library (https://pytorch.org/tutorials/) for some useful funuctions and examples."
      ]
    },
    {
      "cell_type": "code",
      "execution_count": 1,
      "metadata": {
        "id": "LHdZ46lmW8ZH"
      },
      "outputs": [],
      "source": [
        "import torch\n",
        "import torchvision\n",
        "import tqdm\n",
        "import torch.nn.functional as F\n",
        "from torch import nn\n",
        "import numpy as np\n",
        "import matplotlib.pyplot as plt\n",
        "\n",
        "\n",
        "train_batch_size =  50 # Define train batch size\n",
        "test_batch_size  =  50 # Define test batch size (can be larger than train batch size)\n",
        "\n",
        "\n",
        "# Use the following code to load and normalize the dataset\n",
        "train_loader = torch.utils.data.DataLoader(\n",
        "  torchvision.datasets.FashionMNIST('/files/', train=True, download=True,\n",
        "                             transform=torchvision.transforms.Compose([\n",
        "                               torchvision.transforms.ToTensor(),\n",
        "                               torchvision.transforms.Normalize(\n",
        "                                 (0.1307,), (0.3081,))\n",
        "                             ])),\n",
        "  batch_size=train_batch_size, shuffle=True)\n",
        "\n",
        "test_loader = torch.utils.data.DataLoader(\n",
        "  torchvision.datasets.FashionMNIST('/files/', train=False, download=True,\n",
        "                             transform=torchvision.transforms.Compose([\n",
        "                               torchvision.transforms.ToTensor(),\n",
        "                               torchvision.transforms.Normalize(\n",
        "                                 (0.1307,), (0.3081,))\n",
        "                             ])),\n",
        "  batch_size=test_batch_size, shuffle=True)\n",
        "\n",
        "input_dim = 784"
      ]
    },
    {
      "cell_type": "code",
      "execution_count": 2,
      "metadata": {
        "id": "Nt6scrFsYNse"
      },
      "outputs": [],
      "source": [
        "#Define your network:\n",
        "class Network(nn.Module):\n",
        "  def __init__(self,input_dim): #Can provide additional inputs for initialization\n",
        "    #Define the network layer(s) and activation function(s)\n",
        "    super(Network, self).__init__()\n",
        "    self.layer1 = nn.Linear(input_dim, 100)\n",
        "    self.layer2 = nn.Linear(100, 100)\n",
        "    self.layer3 = nn.Linear(100, 100)\n",
        "    self.layer4 = nn.Linear(100, 10) \n",
        "  def forward(self, input):\n",
        "    #How does your model process the input?\n",
        "    x = F.relu(self.layer1(input))\n",
        "    x = F.relu(self.layer2(x))\n",
        "    x = F.relu(self.layer3(x))\n",
        "    output = F.softmax(self.layer4(x), dim=1)\n",
        "    return output"
      ]
    },
    {
      "cell_type": "code",
      "source": [
        ""
      ],
      "metadata": {
        "id": "jEa8ZtqslY22"
      },
      "execution_count": 2,
      "outputs": []
    },
    {
      "cell_type": "code",
      "execution_count": 3,
      "metadata": {
        "id": "IQwTLOTiXnso",
        "colab": {
          "base_uri": "https://localhost:8080/"
        },
        "outputId": "63500b07-b664-40eb-ef84-5526167a92ec"
      },
      "outputs": [
        {
          "output_type": "stream",
          "name": "stderr",
          "text": [
            "100%|██████████| 10/10 [01:46<00:00, 10.65s/it]\n"
          ]
        }
      ],
      "source": [
        "# Define your optimizer\n",
        "model = Network(input_dim)\n",
        "optimizer = torch.optim.SGD(model.parameters(), lr=0.01,momentum=0.8)\n",
        "#torch.optim.Adam(model.parameters(),lr = 0.01, betas = (0.95, 0.998),eps = 1e-7)\n",
        "#torch.optim.RMSprop()\n",
        "loss_fn   = nn.CrossEntropyLoss() \n",
        "\n",
        "epochs = 10\n",
        "\n",
        "loss_list     = np.zeros((epochs,))\n",
        "accuracy_list = np.zeros((epochs,))\n",
        "\n",
        "\n",
        "for epoch in tqdm.trange(epochs):\n",
        "  for train_sample in train_loader:\n",
        "    #Calculate training loss on model\n",
        "    (imgs, labels) = train_sample\n",
        "    flat = nn.Flatten(start_dim=1)\n",
        "    imgs = flat(imgs)\n",
        "\n",
        "    # Zero gradients\n",
        "    optimizer.zero_grad()\n",
        "    #Calculate training loss on model\n",
        "    y_pred = model(imgs)\n",
        "    loss = loss_fn(y_pred, labels)\n",
        "    loss_list[epoch] = loss.item()\n",
        "    \n",
        "    loss.backward()\n",
        "    optimizer.step()\n",
        "\n",
        "# Calculate accuracy on test set\n",
        "  #for test_sample in test_loader:\n",
        "  imgs_val, labels_val = next(iter(test_loader))\n",
        "  imgs_val = flat(imgs_val)\n",
        "  with torch.no_grad():\n",
        "      y_pred = model(imgs_val)\n",
        "      correct = (torch.argmax(y_pred, dim=1) == labels_val).type(torch.FloatTensor)\n",
        "      accuracy_list[epoch] = correct.mean()"
      ]
    },
    {
      "cell_type": "code",
      "source": [
        "fig, (ax1, ax2) = plt.subplots(2, figsize=(12, 6), sharex=True)\n",
        "\n",
        "ax1.plot(accuracy_list)\n",
        "ax1.set_ylabel(\"validation accuracy\")\n",
        "ax2.plot(loss_list)\n",
        "ax2.set_ylabel(\"training loss\")\n",
        "ax2.set_xlabel(\"epochs\");"
      ],
      "metadata": {
        "colab": {
          "base_uri": "https://localhost:8080/",
          "height": 388
        },
        "id": "C1qDsMttXGC9",
        "outputId": "deda606e-44b8-4133-dc57-d4ba944a4155"
      },
      "execution_count": 4,
      "outputs": [
        {
          "output_type": "display_data",
          "data": {
            "text/plain": [
              "<Figure size 864x432 with 2 Axes>"
            ],
            "image/png": "[encoded data removed]"
          },
          "metadata": {
            "needs_background": "light"
          }
        }
      ]
    },
    {
      "cell_type": "code",
      "source": [
        ""
      ],
      "metadata": {
        "id": "PDNhPViOmYLm"
      },
      "execution_count": 4,
      "outputs": []
    }
  ],
  "metadata": {
    "colab": {
      "collapsed_sections": [],
      "name": "Lab3.ipynb",
      "provenance": [],
      "include_colab_link": true
    },
    "kernelspec": {
      "display_name": "Python 3",
      "language": "python",
      "name": "python3"
    },
    "language_info": {
      "codemirror_mode": {
        "name": "ipython",
        "version": 3
      },
      "file_extension": ".py",
      "mimetype": "text/x-python",
      "name": "python",
      "nbconvert_exporter": "python",
      "pygments_lexer": "ipython3",
      "version": "3.8.11"
    }
  },
  "nbformat": 4,
  "nbformat_minor": 0
}